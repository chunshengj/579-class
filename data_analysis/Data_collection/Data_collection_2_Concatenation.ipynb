{
 "cells": [
  {
   "cell_type": "code",
   "execution_count": 1,
   "id": "9b7129e9",
   "metadata": {},
   "outputs": [
    {
     "name": "stdout",
     "output_type": "stream",
     "text": [
      "Intel MKL WARNING: Support of Intel(R) Streaming SIMD Extensions 4.2 (Intel(R) SSE4.2) enabled only processors has been deprecated. Intel oneAPI Math Kernel Library 2025.0 will require Intel(R) Advanced Vector Extensions (Intel(R) AVX) instructions.\n",
      "Intel MKL WARNING: Support of Intel(R) Streaming SIMD Extensions 4.2 (Intel(R) SSE4.2) enabled only processors has been deprecated. Intel oneAPI Math Kernel Library 2025.0 will require Intel(R) Advanced Vector Extensions (Intel(R) AVX) instructions.\n"
     ]
    }
   ],
   "source": [
    "import os\n",
    "import pandas as pd\n",
    "\n",
    "os.chdir(\"/Users/sheng/Jupyter/AESHM_579\")  # for Mac\n",
    "# os.chdir(\"C:\\\\Users\\\\sheng\\\\Jupyter\\\\AESHM_579\")  # for Windows"
   ]
  },
  {
   "cell_type": "code",
   "execution_count": 3,
   "id": "95adcb6f",
   "metadata": {},
   "outputs": [
    {
     "name": "stdout",
     "output_type": "stream",
     "text": [
      "     Unnamed: 0                                        Title         Gross  \\\n",
      "0             0                            Top Gun: Maverick  $718,318,561   \n",
      "1             1               Black Panther: Wakanda Forever  $436,499,646   \n",
      "2             2  Doctor Strange in the Multiverse of Madness  $411,331,607   \n",
      "3             3                     Avatar: The Way of Water  $401,007,908   \n",
      "4             4                     Jurassic World: Dominion  $376,851,080   \n",
      "..          ...                                          ...           ...   \n",
      "176         176                            Let It Be Morning       $42,719   \n",
      "177         177                             Close to Vermeer       $41,039   \n",
      "178         178                                Cinema Sabaya       $39,668   \n",
      "179         179                                    Full Time       $38,658   \n",
      "180         180                                   MindReader       $37,965   \n",
      "\n",
      "    Theaters    Date                          Distributor  \n",
      "0      4,751  May 27                   Paramount Pictures  \n",
      "1      4,396  Nov 11  Walt Disney Studios Motion Pictures  \n",
      "2      4,534   May 6  Walt Disney Studios Motion Pictures  \n",
      "3      4,340  Dec 16                 20th Century Studios  \n",
      "4      4,697  Jun 10                   Universal Pictures  \n",
      "..       ...     ...                                  ...  \n",
      "176       26   Feb 3                    Cohen Media Group  \n",
      "177       23  May 26                          Kino Lorber  \n",
      "178        4  Feb 10                          Kino Lorber  \n",
      "179        8   Feb 3                      Music Box Films  \n",
      "180       15  Oct 24                  Five & Two Pictures  \n",
      "\n",
      "[373 rows x 6 columns]\n"
     ]
    }
   ],
   "source": [
    "import os\n",
    "import pandas as pd\n",
    "\n",
    "os.chdir(\"/Users/sheng/Jupyter/AESHM_579\")  # for Mac\n",
    "# os.chdir(\"C:\\\\Users\\\\sheng\\\\Jupyter\\\\AESHM_579\")  # for Windows\n",
    "\n",
    "result = pd.DataFrame()\n",
    "\n",
    "for year in range (2022, 2024):\n",
    "    readfile = \"Movies_\" + str(year) + \".csv\"  \n",
    "    df = pd.read_csv(readfile, encoding = \"utf-16\")  \n",
    "    result = pd.concat([result, df])\n",
    "\n",
    "print(result)\n",
    "\n",
    "result.to_csv(\"Movies_2012-2023.csv\", encoding = \"utf-16\")"
   ]
  },
  {
   "cell_type": "code",
   "execution_count": null,
   "id": "3959ae76",
   "metadata": {},
   "outputs": [],
   "source": [
    "\n",
    "my_df.to_csv(\"Movies_2017-2021.csv\", encoding = \"utf-16\")"
   ]
  }
 ],
 "metadata": {
  "kernelspec": {
   "display_name": "Python 3 (ipykernel)",
   "language": "python",
   "name": "python3"
  },
  "language_info": {
   "codemirror_mode": {
    "name": "ipython",
    "version": 3
   },
   "file_extension": ".py",
   "mimetype": "text/x-python",
   "name": "python",
   "nbconvert_exporter": "python",
   "pygments_lexer": "ipython3",
   "version": "3.9.16"
  }
 },
 "nbformat": 4,
 "nbformat_minor": 5
}
