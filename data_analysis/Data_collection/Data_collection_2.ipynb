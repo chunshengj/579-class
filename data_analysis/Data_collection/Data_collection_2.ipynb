{
 "cells": [
  {
   "cell_type": "code",
   "execution_count": 1,
   "id": "a1270c31",
   "metadata": {},
   "outputs": [
    {
     "name": "stdout",
     "output_type": "stream",
     "text": [
      "Intel MKL WARNING: Support of Intel(R) Streaming SIMD Extensions 4.2 (Intel(R) SSE4.2) enabled only processors has been deprecated. Intel oneAPI Math Kernel Library 2025.0 will require Intel(R) Advanced Vector Extensions (Intel(R) AVX) instructions.\n",
      "Intel MKL WARNING: Support of Intel(R) Streaming SIMD Extensions 4.2 (Intel(R) SSE4.2) enabled only processors has been deprecated. Intel oneAPI Math Kernel Library 2025.0 will require Intel(R) Advanced Vector Extensions (Intel(R) AVX) instructions.\n"
     ]
    }
   ],
   "source": [
    "# print(\"hello\")\n",
    "import os\n",
    "import requests\n",
    "import bs4\n",
    "import pandas as pd"
   ]
  },
  {
   "cell_type": "code",
   "execution_count": 2,
   "id": "e6ad6987",
   "metadata": {},
   "outputs": [],
   "source": [
    "os.chdir(\"/Users/sheng/Jupyter/AESHM_579\")  # for Mac\n",
    "# os.chdir(\"C:\\\\Users\\\\sheng\\\\Jupyter\\\\AESHM_579\")  # for Windows"
   ]
  },
  {
   "cell_type": "code",
   "execution_count": 3,
   "id": "fe455041",
   "metadata": {},
   "outputs": [],
   "source": [
    "df='https://www.boxofficemojo.com/year/2023/?ref_=bo_yl_table_1'\n",
    "page = requests.get(df)\n",
    "\n",
    "bs_obj = bs4.BeautifulSoup(page.content, \"html.parser\")\n",
    "movie = bs_obj.findAll(\"tr\")"
   ]
  },
  {
   "cell_type": "code",
   "execution_count": 12,
   "id": "a3b05873",
   "metadata": {},
   "outputs": [],
   "source": [
    "movie_title = []\n",
    "movie_gross = []\n",
    "movie_theaters = []\n",
    "movie_date = []\n",
    "movie_distributor = []"
   ]
  },
  {
   "cell_type": "code",
   "execution_count": 14,
   "id": "fd913489",
   "metadata": {},
   "outputs": [
    {
     "name": "stdout",
     "output_type": "stream",
     "text": [
      "                                   Title         Gross Theaters    Date\n",
      "0            The Super Mario Bros. Movie  $570,554,370    4,371   Apr 5\n",
      "1         Guardians of the Galaxy Vol. 3  $336,521,512    4,450   May 5\n",
      "2               Avatar: The Way of Water  $283,067,859    4,340  Dec 16\n",
      "3    Spider-Man: Across the Spider-Verse  $232,339,759    4,332   Jun 2\n",
      "4                     The Little Mermaid  $232,317,534    4,320  May 26\n",
      "..                                   ...           ...      ...     ...\n",
      "213                    Let It Be Morning       $42,719       26   Feb 3\n",
      "214                     Close to Vermeer       $41,039       23  May 26\n",
      "215                        Cinema Sabaya       $39,668        4  Feb 10\n",
      "216                            Full Time       $38,658        8   Feb 3\n",
      "217                           MindReader       $37,965       15  Oct 24\n",
      "\n",
      "[218 rows x 4 columns]\n"
     ]
    }
   ],
   "source": [
    "for item in movie[1:201]:\n",
    "    title = item.find(\"a\", {\"class\": \"a-link-normal\"}).text\n",
    "    gross = item.find(\"td\", {\"class\": \"a-text-right mojo-field-type-money mojo-estimatable\"}).text\n",
    "    theaters = item.find(\"td\", {\"class\": \"a-text-right mojo-field-type-positive_integer\"}).text\n",
    "    date = item.find(\"td\", {\"class\": \"a-text-left mojo-field-type-date a-nowrap\"}).text\n",
    "    \n",
    "    movie_title.append(title)\n",
    "    movie_gross.append(gross)\n",
    "    movie_theaters.append(theaters)\n",
    "    movie_date.append(date)\n",
    "\n",
    "iter_df = pd.DataFrame({\"Title\": movie_title, \"Gross\": movie_gross, \"Theaters\": movie_theaters, \"Date\": movie_date})\n",
    "print(iter_df)"
   ]
  },
  {
   "cell_type": "code",
   "execution_count": 10,
   "id": "7c31a89e",
   "metadata": {},
   "outputs": [
    {
     "data": {
      "text/plain": [
       "'Universal Pictures'"
      ]
     },
     "execution_count": 10,
     "metadata": {},
     "output_type": "execute_result"
    }
   ],
   "source": [
    "movie[1].findAll(\"a\", {\"class\": \"a-link-normal\"})[1].text.split(\"\\n\\n\")[0]"
   ]
  },
  {
   "cell_type": "code",
   "execution_count": 14,
   "id": "dc0cd6fd",
   "metadata": {},
   "outputs": [
    {
     "name": "stdout",
     "output_type": "stream",
     "text": [
      "                                   Title         Gross Theaters    Date  \\\n",
      "0            The Super Mario Bros. Movie  $570,554,370    4,371   Apr 5   \n",
      "1         Guardians of the Galaxy Vol. 3  $336,521,512    4,450   May 5   \n",
      "2               Avatar: The Way of Water  $283,067,859    4,340  Dec 16   \n",
      "3    Spider-Man: Across the Spider-Verse  $232,339,759    4,332   Jun 2   \n",
      "4                     The Little Mermaid  $232,317,534    4,320  May 26   \n",
      "..                                   ...           ...      ...     ...   \n",
      "195                    Let It Be Morning       $42,719       26   Feb 3   \n",
      "196                     Close to Vermeer       $41,039       23  May 26   \n",
      "197                        Cinema Sabaya       $39,668        4  Feb 10   \n",
      "198                            Full Time       $38,658        8   Feb 3   \n",
      "199                           MindReader       $37,965       15  Oct 24   \n",
      "\n",
      "                             Distributor  \n",
      "0            The Super Mario Bros. Movie  \n",
      "1         Guardians of the Galaxy Vol. 3  \n",
      "2               Avatar: The Way of Water  \n",
      "3    Spider-Man: Across the Spider-Verse  \n",
      "4                     The Little Mermaid  \n",
      "..                                   ...  \n",
      "195                    Let It Be Morning  \n",
      "196                     Close to Vermeer  \n",
      "197                        Cinema Sabaya  \n",
      "198                            Full Time  \n",
      "199                           MindReader  \n",
      "\n",
      "[200 rows x 5 columns]\n"
     ]
    }
   ],
   "source": [
    "import os\n",
    "import requests\n",
    "import bs4\n",
    "import pandas as pd\n",
    "\n",
    "os.chdir(\"/Users/sheng/Jupyter/AESHM_579\")  # for Mac\n",
    "# os.chdir(\"C:\\\\Users\\\\sheng\\\\Jupyter\\\\AESHM_579\")  # for Windows\n",
    "\n",
    "df='https://www.boxofficemojo.com/year/2023/?ref_=bo_yl_table_1'\n",
    "page = requests.get(df)\n",
    "\n",
    "bs_obj = bs4.BeautifulSoup(page.content, \"html.parser\")\n",
    "movie = bs_obj.findAll(\"tr\")\n",
    "\n",
    "movie_title = []\n",
    "movie_gross = []\n",
    "movie_theaters = []\n",
    "movie_date = []\n",
    "movie_distributor = []\n",
    "\n",
    "for item in movie[1:201]:\n",
    "    title = item.find(\"a\", {\"class\": \"a-link-normal\"}).text\n",
    "    gross = item.find(\"td\", {\"class\": \"a-text-right mojo-field-type-money mojo-estimatable\"}).text\n",
    "    theaters = item.find(\"td\", {\"class\": \"a-text-right mojo-field-type-positive_integer\"}).text\n",
    "    date = item.find(\"td\", {\"class\": \"a-text-left mojo-field-type-date a-nowrap\"}).text\n",
    "    studio = item.find(\"a\", {\"class\": \"a-link-normal\"}).text\n",
    "    \n",
    "    movie_title.append(title)\n",
    "    movie_gross.append(gross)\n",
    "    movie_theaters.append(theaters)\n",
    "    movie_date.append(date)\n",
    "    movie_distributor.append(studio)\n",
    "\n",
    "iter_df = pd.DataFrame({\"Title\": movie_title, \"Gross\": movie_gross, \"Theaters\": movie_theaters, \n",
    "                        \"Date\": movie_date, \"Distributor\": movie_distributor})\n",
    "print(iter_df)"
   ]
  },
  {
   "cell_type": "code",
   "execution_count": 15,
   "id": "3e895fdf",
   "metadata": {},
   "outputs": [],
   "source": [
    "import os\n",
    "import requests\n",
    "import bs4\n",
    "import pandas as pd\n",
    "\n",
    "os.chdir(\"/Users/sheng/Jupyter/AESHM_579\")  # for Mac\n",
    "# os.chdir(\"C:\\\\Users\\\\sheng\\\\Jupyter\\\\AESHM_579\")  # for Windows\n",
    "\n",
    "df='https://www.boxofficemojo.com/year/2023/?ref_=bo_yl_table_1'\n",
    "page = requests.get(df)\n",
    "\n",
    "bs_obj = bs4.BeautifulSoup(page.content, \"html.parser\")\n",
    "movie = bs_obj.findAll(\"tr\")"
   ]
  },
  {
   "cell_type": "code",
   "execution_count": 22,
   "id": "be02a6d9",
   "metadata": {},
   "outputs": [
    {
     "data": {
      "text/plain": [
       "'The Super Mario Bros. Movie'"
      ]
     },
     "execution_count": 22,
     "metadata": {},
     "output_type": "execute_result"
    }
   ],
   "source": [
    "movie[1].find(\"a\", {\"class\": \"a-link-normal\"}).text"
   ]
  },
  {
   "cell_type": "code",
   "execution_count": 25,
   "id": "b2c0a482",
   "metadata": {},
   "outputs": [
    {
     "data": {
      "text/plain": [
       "<a class=\"a-link-normal\" href=\"/release/rl1930593025/?ref_=bo_yld_table_1\">The Super Mario Bros. Movie</a>"
      ]
     },
     "execution_count": 25,
     "metadata": {},
     "output_type": "execute_result"
    }
   ],
   "source": [
    "movie[1].findAll(\"a\", {\"class\": \"a-link-normal\"})[0]"
   ]
  },
  {
   "cell_type": "code",
   "execution_count": 24,
   "id": "cbb3b953",
   "metadata": {},
   "outputs": [
    {
     "data": {
      "text/plain": [
       "<a class=\"a-link-normal\" href=\"https://pro.imdb.com/company/co0005073/boxoffice/?view=releases&amp;ref_=mojo_yld_table_1&amp;rf=mojo_yld_table_1\" rel=\"noopener\" target=\"_blank\">Universal Pictures<svg class=\"mojo-new-window-svg\" viewbox=\"0 0 32 32\" xmlns=\"http://www.w3.org/2000/svg\">\n",
       "<path d=\"M24,15.57251l3,3V23.5A3.50424,3.50424,0,0,1,23.5,27H8.5A3.50424,3.50424,0,0,1,5,23.5V8.5A3.50424,3.50424,0,0,1,8.5,5h4.92755l3,3H8.5a.50641.50641,0,0,0-.5.5v15a.50641.50641,0,0,0,.5.5h15a.50641.50641,0,0,0,.5-.5ZM19.81952,8.56372,12.8844,17.75a.49989.49989,0,0,0,.04547.65479l.66534.66528a.49983.49983,0,0,0,.65479.04553l9.18628-6.93518,2.12579,2.12585a.5.5,0,0,0,.84741-.27526l1.48273-9.35108a.50006.50006,0,0,0-.57214-.57214L17.969,5.59058a.5.5,0,0,0-.27526.84741Z\"></path>\n",
       "</svg></a>"
      ]
     },
     "execution_count": 24,
     "metadata": {},
     "output_type": "execute_result"
    }
   ],
   "source": [
    "movie[1].findAll(\"a\", {\"class\": \"a-link-normal\"})[1]"
   ]
  },
  {
   "cell_type": "code",
   "execution_count": 26,
   "id": "fbddf675",
   "metadata": {},
   "outputs": [
    {
     "data": {
      "text/plain": [
       "'Universal Pictures\\n\\n'"
      ]
     },
     "execution_count": 26,
     "metadata": {},
     "output_type": "execute_result"
    }
   ],
   "source": [
    "movie[1].findAll(\"a\", {\"class\": \"a-link-normal\"})[1].text"
   ]
  },
  {
   "cell_type": "code",
   "execution_count": 28,
   "id": "cb162053",
   "metadata": {},
   "outputs": [
    {
     "data": {
      "text/plain": [
       "'Universal Pictures'"
      ]
     },
     "execution_count": 28,
     "metadata": {},
     "output_type": "execute_result"
    }
   ],
   "source": [
    "movie[1].findAll(\"a\", {\"class\": \"a-link-normal\"})[1].text.split(\"\\n\\n\")[0]"
   ]
  },
  {
   "cell_type": "code",
   "execution_count": 33,
   "id": "417acd54",
   "metadata": {},
   "outputs": [
    {
     "data": {
      "text/plain": [
       "'Paramount Pictures'"
      ]
     },
     "execution_count": 33,
     "metadata": {},
     "output_type": "execute_result"
    }
   ],
   "source": [
    "movie_distributor[]"
   ]
  },
  {
   "cell_type": "code",
   "execution_count": 2,
   "id": "c623536b",
   "metadata": {},
   "outputs": [
    {
     "data": {
      "text/plain": [
       "(200, 5)"
      ]
     },
     "execution_count": 2,
     "metadata": {},
     "output_type": "execute_result"
    }
   ],
   "source": [
    "iter_df.shape"
   ]
  },
  {
   "cell_type": "code",
   "execution_count": 1,
   "id": "e2c4e4d6",
   "metadata": {},
   "outputs": [
    {
     "name": "stdout",
     "output_type": "stream",
     "text": [
      "Intel MKL WARNING: Support of Intel(R) Streaming SIMD Extensions 4.2 (Intel(R) SSE4.2) enabled only processors has been deprecated. Intel oneAPI Math Kernel Library 2025.0 will require Intel(R) Advanced Vector Extensions (Intel(R) AVX) instructions.\n",
      "Intel MKL WARNING: Support of Intel(R) Streaming SIMD Extensions 4.2 (Intel(R) SSE4.2) enabled only processors has been deprecated. Intel oneAPI Math Kernel Library 2025.0 will require Intel(R) Advanced Vector Extensions (Intel(R) AVX) instructions.\n",
      "no studio information\n",
      "no studio information\n",
      "no studio information\n",
      "no studio information\n",
      "no studio information\n",
      "no studio information\n",
      "no studio information\n",
      "no studio information\n",
      "no studio information\n",
      "no studio information\n",
      "no studio information\n",
      "no studio information\n",
      "no studio information\n",
      "no studio information\n",
      "no studio information\n",
      "no studio information\n",
      "no studio information\n",
      "no studio information\n",
      "no studio information\n",
      "                                   Title         Gross Theaters    Date  \\\n",
      "0            The Super Mario Bros. Movie  $570,554,370    4,371   Apr 5   \n",
      "1         Guardians of the Galaxy Vol. 3  $336,521,512    4,450   May 5   \n",
      "2               Avatar: The Way of Water  $283,067,859    4,340  Dec 16   \n",
      "3    Spider-Man: Across the Spider-Verse  $232,339,759    4,332   Jun 2   \n",
      "4                     The Little Mermaid  $232,317,534    4,320  May 26   \n",
      "..                                   ...           ...      ...     ...   \n",
      "195                    Let It Be Morning       $42,719       26   Feb 3   \n",
      "196                     Close to Vermeer       $41,039       23  May 26   \n",
      "197                        Cinema Sabaya       $39,668        4  Feb 10   \n",
      "198                            Full Time       $38,658        8   Feb 3   \n",
      "199                           MindReader       $37,965       15  Oct 24   \n",
      "\n",
      "                             Distributor  \n",
      "0                     Universal Pictures  \n",
      "1    Walt Disney Studios Motion Pictures  \n",
      "2                   20th Century Studios  \n",
      "3                      Columbia Pictures  \n",
      "4    Walt Disney Studios Motion Pictures  \n",
      "..                                   ...  \n",
      "195                    Cohen Media Group  \n",
      "196                          Kino Lorber  \n",
      "197                          Kino Lorber  \n",
      "198                      Music Box Films  \n",
      "199                  Five & Two Pictures  \n",
      "\n",
      "[200 rows x 5 columns]\n"
     ]
    }
   ],
   "source": [
    "import os\n",
    "import requests\n",
    "import bs4\n",
    "import pandas as pd\n",
    "\n",
    "os.chdir(\"/Users/sheng/Jupyter/AESHM_579\")  # for Mac\n",
    "# os.chdir(\"C:\\\\Users\\\\sheng\\\\Jupyter\\\\AESHM_579\")  # for Windows\n",
    "\n",
    "df='https://www.boxofficemojo.com/year/2023/?ref_=bo_yl_table_1'\n",
    "page = requests.get(df)\n",
    "\n",
    "bs_obj = bs4.BeautifulSoup(page.content, \"html.parser\")\n",
    "movie = bs_obj.findAll(\"tr\")\n",
    "\n",
    "movie_title = []\n",
    "movie_gross = []\n",
    "movie_theaters = []\n",
    "movie_date = []\n",
    "movie_distributor = []\n",
    "\n",
    "for item in movie[1:201]:\n",
    "    title = item.find(\"a\", {\"class\": \"a-link-normal\"}).text\n",
    "    gross = item.find(\"td\", {\"class\": \"a-text-right mojo-field-type-money mojo-estimatable\"}).text\n",
    "    theaters = item.find(\"td\", {\"class\": \"a-text-right mojo-field-type-positive_integer\"}).text\n",
    "    date = item.find(\"td\", {\"class\": \"a-text-left mojo-field-type-date a-nowrap\"}).text\n",
    "    \n",
    "    try:\n",
    "        studio = item.findAll(\"a\", {\"class\": \"a-link-normal\"})[1].text.split(\"\\n\\n\")[0]\n",
    "    except IndexError as e:           # IndexError: list index out of range\n",
    "        print(\"no studio information\")\n",
    "        studio = None\n",
    "        \n",
    "    movie_title.append(title)\n",
    "    movie_gross.append(gross)\n",
    "    movie_theaters.append(theaters)\n",
    "    movie_date.append(date)\n",
    "    movie_distributor.append(studio)\n",
    "\n",
    "iter_df = pd.DataFrame({\"Title\": movie_title, \"Gross\": movie_gross, \"Theaters\": movie_theaters, \n",
    "                        \"Date\": movie_date, \"Distributor\": movie_distributor})\n",
    "print(iter_df)"
   ]
  },
  {
   "cell_type": "code",
   "execution_count": 3,
   "id": "5d079f49",
   "metadata": {},
   "outputs": [],
   "source": []
  },
  {
   "cell_type": "code",
   "execution_count": 8,
   "id": "632e3eeb",
   "metadata": {},
   "outputs": [
    {
     "name": "stdout",
     "output_type": "stream",
     "text": [
      "no studio information\n",
      "no studio information\n",
      "no studio information\n",
      "no studio information\n",
      "no studio information\n",
      "no studio information\n",
      "no studio information\n",
      "no studio information\n",
      "                                           Title         Gross Theaters  \\\n",
      "0                              Top Gun: Maverick  $718,318,561    4,751   \n",
      "1                 Black Panther: Wakanda Forever  $436,499,646    4,396   \n",
      "2    Doctor Strange in the Multiverse of Madness  $411,331,607    4,534   \n",
      "3                       Avatar: The Way of Water  $401,007,908    4,340   \n",
      "4                       Jurassic World: Dominion  $376,851,080    4,697   \n",
      "..                                           ...           ...      ...   \n",
      "187                            Brian and Charles      $430,635      279   \n",
      "188                                 King Richard      $408,056    3,302   \n",
      "189                               The Inspection      $385,627      144   \n",
      "190                                        Alice      $372,529      169   \n",
      "191                        Emergency Declaration      $372,123       42   \n",
      "\n",
      "       Date                          Distributor  \n",
      "0    May 27                   Paramount Pictures  \n",
      "1    Nov 11  Walt Disney Studios Motion Pictures  \n",
      "2     May 6  Walt Disney Studios Motion Pictures  \n",
      "3    Dec 16                 20th Century Studios  \n",
      "4    Jun 10                   Universal Pictures  \n",
      "..      ...                                  ...  \n",
      "187  Jun 17                       Focus Features  \n",
      "188  Nov 19                         Warner Bros.  \n",
      "189  Nov 18                                  A24  \n",
      "190  Mar 18                 Roadside Attractions  \n",
      "191  Aug 12            Well Go USA Entertainment  \n",
      "\n",
      "[192 rows x 5 columns]\n"
     ]
    }
   ],
   "source": [
    "import os\n",
    "import requests\n",
    "import bs4\n",
    "import pandas as pd\n",
    "\n",
    "os.chdir(\"/Users/sheng/Jupyter/AESHM_579\")  # for Mac\n",
    "# os.chdir(\"C:\\\\Users\\\\sheng\\\\Jupyter\\\\AESHM_579\")  # for Windows\n",
    "\n",
    "# df='https://www.boxofficemojo.com/year/2023/?ref_=bo_yl_table_1'\n",
    "df='https://www.boxofficemojo.com/year/2022/?ref_=bo_yl_table_2'\n",
    "\n",
    "page = requests.get(df)\n",
    "\n",
    "bs_obj = bs4.BeautifulSoup(page.content, \"html.parser\")\n",
    "movie = bs_obj.findAll(\"tr\")\n",
    "\n",
    "movie_title = []\n",
    "movie_gross = []\n",
    "movie_theaters = []\n",
    "movie_date = []\n",
    "movie_distributor = []\n",
    "\n",
    "for item in movie[1:201]:\n",
    "    title = item.find(\"a\", {\"class\": \"a-link-normal\"}).text\n",
    "    gross = item.find(\"td\", {\"class\": \"a-text-right mojo-field-type-money mojo-estimatable\"}).text\n",
    "    theaters = item.find(\"td\", {\"class\": \"a-text-right mojo-field-type-positive_integer\"}).text\n",
    "    date = item.find(\"td\", {\"class\": \"a-text-left mojo-field-type-date a-nowrap\"}).text\n",
    "    \n",
    "    try:\n",
    "        studio = item.findAll(\"a\", {\"class\": \"a-link-normal\"})[1].text.split(\"\\n\\n\")[0]\n",
    "    except IndexError as e:           # IndexError: list index out of range\n",
    "        print(\"no studio information\")\n",
    "#         studio = None\n",
    "    else:\n",
    "        movie_title.append(title)\n",
    "        movie_gross.append(gross)\n",
    "        movie_theaters.append(theaters)\n",
    "        movie_date.append(date)\n",
    "        movie_distributor.append(studio)\n",
    "\n",
    "iter_df = pd.DataFrame({\"Title\": movie_title, \"Gross\": movie_gross, \"Theaters\": movie_theaters, \n",
    "                        \"Date\": movie_date, \"Distributor\": movie_distributor})\n",
    "print(iter_df)\n",
    "\n",
    "iter_df.to_csv('Movies_2022.csv', encoding='utf-16')"
   ]
  },
  {
   "cell_type": "code",
   "execution_count": 6,
   "id": "56cdca4d",
   "metadata": {},
   "outputs": [],
   "source": [
    "iter_df.to_csv('Movies_2023.csv', encoding='utf-16')"
   ]
  }
 ],
 "metadata": {
  "kernelspec": {
   "display_name": "Python 3 (ipykernel)",
   "language": "python",
   "name": "python3"
  },
  "language_info": {
   "codemirror_mode": {
    "name": "ipython",
    "version": 3
   },
   "file_extension": ".py",
   "mimetype": "text/x-python",
   "name": "python",
   "nbconvert_exporter": "python",
   "pygments_lexer": "ipython3",
   "version": "3.9.16"
  }
 },
 "nbformat": 4,
 "nbformat_minor": 5
}
