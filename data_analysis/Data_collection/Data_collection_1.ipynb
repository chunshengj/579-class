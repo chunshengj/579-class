{
 "cells": [
  {
   "cell_type": "code",
   "execution_count": 5,
   "id": "9bfeb8f5",
   "metadata": {},
   "outputs": [],
   "source": [
    "# print(\"hello\")\n",
    "import os\n",
    "import requests\n",
    "import bs4\n",
    "import pandas as pd"
   ]
  },
  {
   "cell_type": "code",
   "execution_count": 6,
   "id": "feda2317",
   "metadata": {},
   "outputs": [],
   "source": [
    "os.chdir(\"/Users/sheng/Jupyter/AESHM_579\")  # for Mac\n",
    "# os.chdir(\"C:\\\\Users\\\\sheng\\\\Jupyter\\\\AESHM_579\")  # for Windows"
   ]
  },
  {
   "cell_type": "code",
   "execution_count": 7,
   "id": "2db6cd72",
   "metadata": {},
   "outputs": [],
   "source": [
    "df='https://www.boxofficemojo.com/year/2023/?ref_=bo_yl_table_1'\n",
    "page = requests.get(df)\n",
    "\n",
    "bs_obj = bs4.BeautifulSoup(page.content, \"html.parser\")\n",
    "movie = bs_obj.findAll(\"tr\")"
   ]
  },
  {
   "cell_type": "code",
   "execution_count": 8,
   "id": "02f2e904",
   "metadata": {},
   "outputs": [
    {
     "name": "stdout",
     "output_type": "stream",
     "text": [
      "201\n"
     ]
    }
   ],
   "source": [
    "print(len(movie))"
   ]
  },
  {
   "cell_type": "code",
   "execution_count": 9,
   "id": "2b6322e5",
   "metadata": {},
   "outputs": [
    {
     "name": "stdout",
     "output_type": "stream",
     "text": [
      "<tr><th class=\"a-text-right mojo-field-type-rank mojo-sort-column mojo-sortable-column a-nowrap\"><a class=\"a-link-normal a-nowrap\" href=\"?sort=rank&amp;ref_=bo_yld__resort#table\" title=\"Rank\"><span class=\"a-color-state\">Rank</span><span class=\"a-letter-space\"></span><span class=\"icon aok-relative\"><i class=\"a-icon a-icon-collapse\" role=\"presentation\"></i></span></a></th><th class=\"a-text-left mojo-field-type-release mojo-cell-wide mojo-sortable-column a-nowrap\"><span title=\"Release\">Release</span>\n",
      "</th><th class=\"a-text-left mojo-field-type-genre hidden mojo-sortable-column hidden a-nowrap\"><span title=\"Genre\">Genre</span>\n",
      "</th><th class=\"a-text-right mojo-field-type-money hidden mojo-sortable-column hidden a-nowrap\"><span title=\"Budget\">Budget</span>\n",
      "</th><th class=\"a-text-right mojo-field-type-duration hidden mojo-sortable-column hidden a-nowrap\"><span title=\"Running Time\">Running Time</span>\n",
      "</th><th class=\"a-text-right mojo-field-type-money mojo-sortable-column mojo-estimatable a-nowrap\"><a class=\"a-link-normal a-nowrap\" href=\"?sort=gross&amp;ref_=bo_yld__resort#table\" title=\"Gross\">Gross<span class=\"a-letter-space\"></span><span class=\"icon aok-relative\"><i class=\"a-icon a-icon-expand table-sort-desc-placeholder\" role=\"presentation\"></i><i class=\"a-icon a-icon-collapse table-sort-asc-placeholder\" role=\"presentation\"></i></span></a></th><th class=\"a-text-right mojo-field-type-positive_integer mojo-sortable-column a-nowrap\"><a class=\"a-link-normal a-nowrap\" href=\"?sort=maxNumTheaters&amp;ref_=bo_yld__resort#table\" title=\"Maximum Number of Theaters\">Theaters<span class=\"a-letter-space\"></span><span class=\"icon aok-relative\"><i class=\"a-icon a-icon-expand table-sort-desc-placeholder\" role=\"presentation\"></i><i class=\"a-icon a-icon-collapse table-sort-asc-placeholder\" role=\"presentation\"></i></span></a></th><th class=\"a-text-right mojo-field-type-money mojo-sortable-column mojo-estimatable a-nowrap\"><a class=\"a-link-normal a-nowrap\" href=\"?sort=grossToDate&amp;ref_=bo_yld__resort#table\" title=\"Total Gross\">Total Gross<span class=\"a-letter-space\"></span><span class=\"icon aok-relative\"><i class=\"a-icon a-icon-expand table-sort-desc-placeholder\" role=\"presentation\"></i><i class=\"a-icon a-icon-collapse table-sort-asc-placeholder\" role=\"presentation\"></i></span></a></th><th class=\"a-text-left mojo-field-type-date mojo-sortable-column a-nowrap\"><a class=\"a-link-normal a-nowrap\" href=\"?sort=releaseDate&amp;ref_=bo_yld__resort#table\" title=\"Release Date\">Release Date<span class=\"a-letter-space\"></span><span class=\"icon aok-relative\"><i class=\"a-icon a-icon-expand table-sort-desc-placeholder\" role=\"presentation\"></i><i class=\"a-icon a-icon-collapse table-sort-asc-placeholder\" role=\"presentation\"></i></span></a></th><th class=\"a-text-left mojo-field-type-studio mojo-sortable-column a-nowrap\"><span title=\"Distributor\">Distributor</span>\n",
      "</th><th class=\"a-text-right mojo-field-type-boolean hidden mojo-sortable-column hidden a-nowrap\"><span title=\"Estimated\">Estimated</span>\n",
      "</th></tr>\n"
     ]
    }
   ],
   "source": [
    "print(movie[0])"
   ]
  },
  {
   "cell_type": "code",
   "execution_count": 10,
   "id": "8bceed43",
   "metadata": {},
   "outputs": [
    {
     "name": "stdout",
     "output_type": "stream",
     "text": [
      "<tr><td class=\"a-text-right mojo-header-column mojo-truncate mojo-field-type-rank mojo-sort-column\">200</td><td class=\"a-text-left mojo-field-type-release mojo-cell-wide\"><a class=\"a-link-normal\" href=\"/release/rl3571811073/?ref_=bo_yld_table_200\">MindReader</a></td><td class=\"a-text-left mojo-field-type-genre hidden\">-</td><td class=\"a-text-right mojo-field-type-money hidden\">-</td><td class=\"a-text-right mojo-field-type-duration hidden\">-</td><td class=\"a-text-right mojo-field-type-money mojo-estimatable\">$37,965</td><td class=\"a-text-right mojo-field-type-positive_integer\">15</td><td class=\"a-text-right mojo-field-type-money mojo-estimatable\">$100,845</td><td class=\"a-text-left mojo-field-type-date a-nowrap\">Oct 24</td><td class=\"a-text-left mojo-field-type-studio\"><a class=\"a-link-normal\" href=\"https://pro.imdb.com/company/co0073962/boxoffice/?view=releases&amp;ref_=mojo_yld_table_200&amp;rf=mojo_yld_table_200\" rel=\"noopener\" target=\"_blank\">Five &amp; Two Pictures<svg class=\"mojo-new-window-svg\" viewbox=\"0 0 32 32\" xmlns=\"http://www.w3.org/2000/svg\">\n",
      "<path d=\"M24,15.57251l3,3V23.5A3.50424,3.50424,0,0,1,23.5,27H8.5A3.50424,3.50424,0,0,1,5,23.5V8.5A3.50424,3.50424,0,0,1,8.5,5h4.92755l3,3H8.5a.50641.50641,0,0,0-.5.5v15a.50641.50641,0,0,0,.5.5h15a.50641.50641,0,0,0,.5-.5ZM19.81952,8.56372,12.8844,17.75a.49989.49989,0,0,0,.04547.65479l.66534.66528a.49983.49983,0,0,0,.65479.04553l9.18628-6.93518,2.12579,2.12585a.5.5,0,0,0,.84741-.27526l1.48273-9.35108a.50006.50006,0,0,0-.57214-.57214L17.969,5.59058a.5.5,0,0,0-.27526.84741Z\"></path>\n",
      "</svg></a></td><td class=\"a-text-right mojo-field-type-boolean hidden\">false</td></tr>\n"
     ]
    }
   ],
   "source": [
    "print(movie[200])"
   ]
  },
  {
   "cell_type": "code",
   "execution_count": 11,
   "id": "adf98b5c",
   "metadata": {},
   "outputs": [
    {
     "name": "stdout",
     "output_type": "stream",
     "text": [
      "<tr><td class=\"a-text-right mojo-header-column mojo-truncate mojo-field-type-rank mojo-sort-column\">1</td><td class=\"a-text-left mojo-field-type-release mojo-cell-wide\"><a class=\"a-link-normal\" href=\"/release/rl1930593025/?ref_=bo_yld_table_1\">The Super Mario Bros. Movie</a></td><td class=\"a-text-left mojo-field-type-genre hidden\">-</td><td class=\"a-text-right mojo-field-type-money hidden\">-</td><td class=\"a-text-right mojo-field-type-duration hidden\">-</td><td class=\"a-text-right mojo-field-type-money mojo-estimatable\">$570,554,370</td><td class=\"a-text-right mojo-field-type-positive_integer\">4,371</td><td class=\"a-text-right mojo-field-type-money mojo-estimatable\">$570,554,370</td><td class=\"a-text-left mojo-field-type-date a-nowrap\">Apr 5</td><td class=\"a-text-left mojo-field-type-studio\"><a class=\"a-link-normal\" href=\"https://pro.imdb.com/company/co0005073/boxoffice/?view=releases&amp;ref_=mojo_yld_table_1&amp;rf=mojo_yld_table_1\" rel=\"noopener\" target=\"_blank\">Universal Pictures<svg class=\"mojo-new-window-svg\" viewbox=\"0 0 32 32\" xmlns=\"http://www.w3.org/2000/svg\">\n",
      "<path d=\"M24,15.57251l3,3V23.5A3.50424,3.50424,0,0,1,23.5,27H8.5A3.50424,3.50424,0,0,1,5,23.5V8.5A3.50424,3.50424,0,0,1,8.5,5h4.92755l3,3H8.5a.50641.50641,0,0,0-.5.5v15a.50641.50641,0,0,0,.5.5h15a.50641.50641,0,0,0,.5-.5ZM19.81952,8.56372,12.8844,17.75a.49989.49989,0,0,0,.04547.65479l.66534.66528a.49983.49983,0,0,0,.65479.04553l9.18628-6.93518,2.12579,2.12585a.5.5,0,0,0,.84741-.27526l1.48273-9.35108a.50006.50006,0,0,0-.57214-.57214L17.969,5.59058a.5.5,0,0,0-.27526.84741Z\"></path>\n",
      "</svg></a></td><td class=\"a-text-right mojo-field-type-boolean hidden\">false</td></tr>\n"
     ]
    }
   ],
   "source": [
    "print(movie[1])"
   ]
  },
  {
   "cell_type": "code",
   "execution_count": 12,
   "id": "cb27798e",
   "metadata": {},
   "outputs": [
    {
     "name": "stdout",
     "output_type": "stream",
     "text": [
      "The Super Mario Bros. Movie\n"
     ]
    }
   ],
   "source": [
    "title = movie[1].find(\"a\", {\"class\": \"a-link-normal\"}).text\n",
    "print(title)"
   ]
  },
  {
   "cell_type": "code",
   "execution_count": 13,
   "id": "d4147734",
   "metadata": {},
   "outputs": [
    {
     "name": "stdout",
     "output_type": "stream",
     "text": [
      "$570,554,370\n"
     ]
    }
   ],
   "source": [
    "gross = movie[1].find(\"td\", {\"class\": \"a-text-right mojo-field-type-money mojo-estimatable\"}).text\n",
    "print(gross)"
   ]
  },
  {
   "cell_type": "code",
   "execution_count": 14,
   "id": "b8a9b3f7",
   "metadata": {},
   "outputs": [],
   "source": [
    "movie_title = []\n",
    "movie_gross = []\n",
    "\n",
    "movie_title.append(title)\n",
    "movie_gross.append(gross)"
   ]
  },
  {
   "cell_type": "code",
   "execution_count": 15,
   "id": "8b190b71",
   "metadata": {
    "scrolled": true
   },
   "outputs": [
    {
     "name": "stdout",
     "output_type": "stream",
     "text": [
      "                         Title         Gross\n",
      "0  The Super Mario Bros. Movie  $570,554,370\n"
     ]
    }
   ],
   "source": [
    "iter_df = pd.DataFrame({\"Title\": movie_title, \"Gross\": movie_gross})\n",
    "print(iter_df)"
   ]
  },
  {
   "cell_type": "code",
   "execution_count": 16,
   "id": "2e1973fb",
   "metadata": {},
   "outputs": [
    {
     "name": "stdout",
     "output_type": "stream",
     "text": [
      "                                 Title         Gross\n",
      "0          The Super Mario Bros. Movie  $570,554,370\n",
      "1       Guardians of the Galaxy Vol. 3  $336,521,512\n",
      "2             Avatar: The Way of Water  $283,067,859\n",
      "3  Spider-Man: Across the Spider-Verse  $232,339,759\n"
     ]
    }
   ],
   "source": [
    "movie_title = []\n",
    "movie_gross = []\n",
    "\n",
    "for item in movie[1:5]:\n",
    "    title = item.find(\"a\", {\"class\": \"a-link-normal\"}).text\n",
    "    gross = item.find(\"td\", {\"class\": \"a-text-right mojo-field-type-money mojo-estimatable\"}).text\n",
    "\n",
    "    movie_title.append(title)\n",
    "    movie_gross.append(gross)\n",
    "\n",
    "iter_df = pd.DataFrame({\"Title\": movie_title, \"Gross\": movie_gross})\n",
    "print(iter_df)"
   ]
  },
  {
   "cell_type": "code",
   "execution_count": 17,
   "id": "3b6693d4",
   "metadata": {},
   "outputs": [
    {
     "name": "stdout",
     "output_type": "stream",
     "text": [
      "                                         Title         Gross\n",
      "0                      Spider-Man: No Way Home  $572,984,769\n",
      "1    Shang-Chi and the Legend of the Ten Rings  $224,543,292\n",
      "2                  Venom: Let There Be Carnage  $212,609,036\n",
      "3                                  Black Widow  $183,651,655\n",
      "4                            F9: The Fast Saga  $173,005,945\n",
      "..                                         ...           ...\n",
      "195                                      Ailey      $204,513\n",
      "196                              Groundhog Day      $200,989\n",
      "197                                 The Resort      $191,996\n",
      "198               Kaamelott: First Installment      $188,000\n",
      "199                       Earwig and the Witch      $173,704\n",
      "\n",
      "[200 rows x 2 columns]\n"
     ]
    }
   ],
   "source": [
    "df = \"https://www.boxofficemojo.com/year/2021/?ref_=bo_yl_table_2\"\n",
    "page = requests.get(df)\n",
    "bs_obj = bs4.BeautifulSoup(page.content, \"html.parser\")\n",
    "movie = bs_obj.findAll(\"tr\")\n",
    "\n",
    "movie_title = []\n",
    "movie_gross = []\n",
    "\n",
    "for item in movie[1:201]:\n",
    "    title = item.find(\"a\", {\"class\": \"a-link-normal\"}).text\n",
    "    gross = item.find(\"td\", {\"class\": \"a-text-right mojo-field-type-money mojo-estimatable\"}).text\n",
    "\n",
    "    movie_title.append(title)\n",
    "    movie_gross.append(gross)\n",
    "\n",
    "iter_df = pd.DataFrame({\"Title\": movie_title, \"Gross\": movie_gross})\n",
    "print(iter_df)"
   ]
  }
 ],
 "metadata": {
  "kernelspec": {
   "display_name": "Python 3 (ipykernel)",
   "language": "python",
   "name": "python3"
  },
  "language_info": {
   "codemirror_mode": {
    "name": "ipython",
    "version": 3
   },
   "file_extension": ".py",
   "mimetype": "text/x-python",
   "name": "python",
   "nbconvert_exporter": "python",
   "pygments_lexer": "ipython3",
   "version": "3.9.16"
  }
 },
 "nbformat": 4,
 "nbformat_minor": 5
}
